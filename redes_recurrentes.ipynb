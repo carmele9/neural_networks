{
 "cells": [
  {
   "cell_type": "code",
   "id": "initial_id",
   "metadata": {
    "collapsed": true
   },
   "source": [
    "import numpy as np\n",
    "\n",
    "np.random.seed(5)\n",
    "\n",
    "from tensorflow.keras.layers import Input, Dense, SimpleRNN\n",
    "from tensorflow.keras import Model\n",
    "from tensorflow.keras.optimizers import SGD\n",
    "from tensorflow.keras.utils import to_categorical\n",
    "from tensorflow.keras import backend as K\n"
   ],
   "outputs": [],
   "execution_count": null
  },
  {
   "metadata": {},
   "cell_type": "code",
   "source": [
    "nombres = open(\"nombres_dinosaurios.txt\", \"r\").read()\n",
    "nombres = nombres.lower()"
   ],
   "id": "ba45d39b1b1c508c",
   "outputs": [],
   "execution_count": null
  },
  {
   "metadata": {},
   "cell_type": "code",
   "source": [
    "#Definimos el alfabeto para la red neuronal\n",
    "alfabeto = list(set(nombres))\n",
    "tam_datos = len(nombres)\n",
    "tam_alfabetos = len(alfabeto)\n",
    "print(\"Datos: \", tam_datos)\n",
    "print(\"Alfabeto: \", tam_alfabetos)\n",
    "print(alfabeto)\n",
    "car_to_ind = {car: ind for ind, car in enumerate(sorted(alfabeto))}\n",
    "ind_to_car = {ind: car for ind, car in enumerate(sorted(alfabeto))}\n",
    "print(\"Caracter to Index: \", car_to_ind)\n",
    "print(\"Index to Caracter: \", ind_to_car)"
   ],
   "id": "c114830a67c34ccd",
   "outputs": [],
   "execution_count": null
  },
  {
   "metadata": {},
   "cell_type": "code",
   "source": [
    "#Redes Neuronales\n",
    "n = 25  #Parametro de Hidden Layers\n",
    "entrada = Input(shape=(None, tam_alfabetos))  #Tamaño de la palabra variable = None en shape\n",
    "a0 = Input(shape=(n,))  #Red Recurrente --> Estado Anterior // n que refleja las neuronas que tiene el estado\n",
    "cel_RNN = SimpleRNN(n, activation=\"tanh\", return_state=True)  #La salida te devuelve el estado actualizado\n",
    "cap_salida = Dense(tam_alfabetos, activation=\"softmax\")"
   ],
   "id": "eb419ed8860f21e5",
   "outputs": [],
   "execution_count": null
  },
  {
   "metadata": {},
   "cell_type": "code",
   "source": [
    "#Definimos la recurrencia\n",
    "hs, _ = cel_RNN(entrada, initial_state=a0)  #Te realimentas con a0 = Estado Inicial\n",
    "salida = []\n",
    "salida.append(cap_salida(hs))  #Te alimentas con la salida **Aun no esta hecha la retroalimentacion del estado\n",
    "modelo = Model([entrada, a0], salida)  #Indicamos que nos estamos retroalimentando con las dos entradas y la salida\n"
   ],
   "id": "46b28afea99711bd",
   "outputs": [],
   "execution_count": null
  },
  {
   "metadata": {},
   "cell_type": "code",
   "source": [
    "#Creamos el optimizador\n",
    "opt = SGD(learning_rate=0.0005)\n",
    "modelo.compile(optimizer=opt, loss=\"categorical_crossentropy\")\n",
    "\n",
    "#Usar un generador para crear ejemplos de entrenamiento\n",
    "with open(\"nombres_dinosaurios.txt\") as f:\n",
    "    ejemplos = f.readlines()\n",
    "ejemplos = [x.lower().strip() for x in ejemplos]\n",
    "np.random.shuffle(ejemplos)"
   ],
   "id": "d51ae2df50b243b3",
   "outputs": [],
   "execution_count": null
  },
  {
   "metadata": {},
   "cell_type": "code",
   "source": [
    "#Pasar los caracteres a indices y despues al  onehot\n",
    "import tensorflow as tf\n",
    "\n",
    "class Generator(tf.keras.utils.Sequence):\n",
    "    def train_generator(self):\n",
    "        while True:\n",
    "            ejemplo = ejemplos[np.random.randint(0, len(ejemplos))]\n",
    "            x = [None] + [car_to_ind[c] for c in ejemplo]\n",
    "            y = x[1:] + [car_to_ind[\"\\n\"]]\n",
    "            x_onehot = np.zeros((len(x), 1, tam_alfabetos))\n",
    "            onehot = to_categorical(x[1:], tam_alfabetos).reshape(len(x) - 1, 1, tam_alfabetos)\n",
    "            x_onehot[1:, :, :] = onehot\n",
    "            y_onehot = to_categorical(y, tam_alfabetos).reshape(len(x), tam_alfabetos)\n",
    "            a = np.zeros((len(x), n))\n",
    "            yield (x_onehot, a), y_onehot\n",
    "        "
   ],
   "id": "cd5868e9805f528a",
   "outputs": [],
   "execution_count": null
  },
  {
   "metadata": {},
   "cell_type": "code",
   "source": [
    "#Entrenamos el modelo \n",
    "BATCH_SIZE = 80\n",
    "N_ITS = 10000\n",
    "generator = Generator()\n",
    "for j in range(N_ITS):\n",
    "    hist = modelo.fit(generator.train_generator(), steps_per_epoch=BATCH_SIZE, epochs=1, verbose=0)\n",
    "    if j % 1000 == 0:\n",
    "        print(\"\\n Iteracion: %d, error: %f\" % (j, hist.history[\"loss\"][0]) + \"\\n\")"
   ],
   "id": "e83aacb67a24a217",
   "outputs": [],
   "execution_count": null
  },
  {
   "metadata": {},
   "cell_type": "code",
   "source": [
    "def name_generator(modelo, car_to_ind, tam_alfabetos, n):\n",
    "    x = np.zeros((1,1,tam_alfabetos, ))\n",
    "    a = np.zeros((1,n))\n",
    "    nombre_generado = ''\n",
    "    fin_de_linea = '\\n'\n",
    "    car = ''\n",
    "    count = 0\n",
    "    while (car != fin_de_linea and count != 50):\n",
    "        a,_ =cel_RNN(K.constant(x), initial_state = K.constant(a))\n",
    "        y = cap_salida(a)\n",
    "        pred = K.eval(y)    #Predicciones del modelo\n",
    "        ix = np.random.choice(list(range(tam_alfabetos)), p=pred.ravel()) #Escogemos un elemento\n",
    "        car = ind_to_car[ix] # El elemento lo convertimos a caracter\n",
    "        nombre_generado += car\n",
    "        x = to_categorical(ix, tam_alfabetos).reshape(1,1,tam_alfabetos)\n",
    "        a = K.eval(a)\n",
    "        count += 1\n",
    "\n",
    "        if count == 50:\n",
    "            car = fin_de_linea\n",
    "    print(nombre_generado)\n",
    "        "
   ],
   "id": "34c544072eab40f9",
   "outputs": [],
   "execution_count": null
  },
  {
   "metadata": {},
   "cell_type": "code",
   "source": [
    "for i in range (100):\n",
    "    name_generator(modelo, car_to_ind, tam_alfabetos, n)"
   ],
   "id": "bfa248b64b3fae3f",
   "outputs": [],
   "execution_count": null
  },
  {
   "metadata": {},
   "cell_type": "code",
   "source": "",
   "id": "b645b70b87947cbe",
   "outputs": [],
   "execution_count": null
  },
  {
   "metadata": {},
   "cell_type": "code",
   "source": "",
   "id": "756a06498aac8b0b",
   "outputs": [],
   "execution_count": null
  }
 ],
 "metadata": {
  "kernelspec": {
   "display_name": "Python 3",
   "language": "python",
   "name": "python3"
  },
  "language_info": {
   "codemirror_mode": {
    "name": "ipython",
    "version": 2
   },
   "file_extension": ".py",
   "mimetype": "text/x-python",
   "name": "python",
   "nbconvert_exporter": "python",
   "pygments_lexer": "ipython2",
   "version": "2.7.6"
  }
 },
 "nbformat": 4,
 "nbformat_minor": 5
}
