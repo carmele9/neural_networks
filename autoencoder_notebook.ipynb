{
 "cells": [
  {
   "cell_type": "code",
   "id": "initial_id",
   "metadata": {
    "collapsed": true
   },
   "source": [
    "import pandas as pd\n",
    "import matplotlib.pyplot as plt\n",
    "\n",
    "#Data Manipulation\n",
    "datos = pd.read_csv(\"creditcard.csv\")\n",
    "print(datos.head())"
   ],
   "outputs": [],
   "execution_count": null
  },
  {
   "metadata": {},
   "cell_type": "code",
   "source": [
    "nr_classes = datos[\"Class\"].value_counts(sort=True)\n",
    "print(nr_classes)"
   ],
   "id": "84c5f4f32e8ae9da",
   "outputs": [],
   "execution_count": null
  },
  {
   "metadata": {},
   "cell_type": "code",
   "source": [
    "nr_classes.plot(kind=\"bar\", rot=0)\n",
    "plt.xticks(range(2),[\"Normal\", \"Fraudulento\"])\n",
    "plt.title(\"Distribución de los Datos\")\n",
    "plt.xlabel(\"Clases\")\n",
    "plt.ylabel(\"Cantidad\")\n",
    "plt.show()"
   ],
   "id": "1068d5c84d9d5d4c",
   "outputs": [],
   "execution_count": null
  },
  {
   "metadata": {},
   "cell_type": "code",
   "source": [
    "normales=datos[datos.Class==0]\n",
    "fraudulentos= datos[datos.Class==1]\n",
    "plt.scatter(normales.Time/3600, normales.Amount, alpha=0.5, c=\"blue\", label=\"Normales\", s=3)\n",
    "plt.scatter(fraudulentos.Time/3600, fraudulentos.Amount, alpha= 0.5, c=\"red\", label=\"Fraudulentos\", s=3)\n",
    "plt.xlabel(\"Tiempo desde la primera transaccion (h)\")\n",
    "plt.ylabel(\"Cantidad (euros)\")\n",
    "plt.legend(loc=\"upper right\")\n",
    "plt.show()"
   ],
   "id": "5be1961683b9bc5e",
   "outputs": [],
   "execution_count": null
  },
  {
   "metadata": {},
   "cell_type": "code",
   "source": [
    "import numpy as np\n",
    "\n",
    "bins = np.linspace(200,2500,100)\n",
    "plt.hist(normales.Amount, bins, alpha=1, density= True, label= \"Normales\", color=\"blue\")\n",
    "plt.hist(fraudulentos.Amount, bins, alpha=0.6, density=True, label=\"Fraudulentos\", color=\"red\")\n",
    "plt.legend(loc=\"upper right\")\n",
    "plt.xlabel(\"Cantidad (euros\")\n",
    "plt.ylabel(\"Porcentaje de transacciones (%)\")\n",
    "plt.show()"
   ],
   "id": "1d4a4ab999099ec8",
   "outputs": [],
   "execution_count": null
  },
  {
   "metadata": {},
   "cell_type": "code",
   "source": [
    "import matplotlib.gridspec as gs\n",
    "import matplotlib.colors\n",
    "import seaborn as sns\n",
    "\n",
    "var = datos.iloc[:,1:29].columns\n",
    "grid = gs.GridSpec(28,1)\n",
    "for i, cn in enumerate(datos[var]):\n",
    "    sns.displot(data = datos, x= cn, hue= \"Class\", bins=50, stat=\"density\", common_norm=False)\n",
    "    plt.title(\"Historagrama Caracteristica: \" + str(cn))\n",
    "    plt.show()"
   ],
   "id": "bfe94a5e782ce446",
   "outputs": [],
   "execution_count": null
  },
  {
   "metadata": {},
   "cell_type": "code",
   "source": [
    "#Procesamiento de Datos\n",
    "\n",
    "from sklearn.preprocessing import StandardScaler\n",
    "\n",
    "datos.drop([\"Time\"], axis=1, inplace=True)\n",
    "datos[\"Amount\"]=StandardScaler().fit_transform(datos[\"Amount\"].values.reshape(-1,1))"
   ],
   "id": "bf7ad7a5a362b630",
   "outputs": [],
   "execution_count": null
  },
  {
   "metadata": {},
   "cell_type": "code",
   "source": [
    "#Train y Test\n",
    "\n",
    "from sklearn.model_selection import train_test_split\n",
    "\n",
    "x_train, x_test = train_test_split(datos,test_size=0.2, random_state=42)\n",
    "x_train = x_train[x_train.Class == 0]\n",
    "x_train = x_train.drop([\"Class\"], axis=1)\n",
    "x_train = x_train.values\n",
    "y_test = x_test[\"Class\"]\n",
    "x_test = x_test.drop([\"Class\"], axis = 1)\n",
    "x_test = x_test.values"
   ],
   "id": "7ee5ec81e15ef8b5",
   "outputs": [],
   "execution_count": null
  },
  {
   "metadata": {},
   "cell_type": "code",
   "source": [
    "np.random.seed(5)\n",
    "\n",
    "from tensorflow.keras.layers import Input, Dense\n",
    "from tensorflow.keras import Model\n",
    "from tensorflow.keras.optimizers import SGD\n",
    "\n",
    "dim_entrada = x_train.shape[1]\n",
    "\n",
    "capa_entrada = Input(shape=(dim_entrada, ))\n",
    "encoder = Dense(20, activation=\"tanh\")(capa_entrada)\n",
    "encoder = Dense(14, activation=\"relu\")(encoder)\n",
    "\n",
    "decoder = Dense(20, activation=\"tanh\")(encoder)\n",
    "decoder = Dense(29, activation=\"relu\")(decoder)\n",
    "\n",
    "autoencoder = Model(inputs= capa_entrada, outputs = decoder)\n",
    "sgd = SGD(learning_rate=0.01)\n",
    "\n",
    "\n"
   ],
   "id": "88602e888c9cd187",
   "outputs": [],
   "execution_count": null
  },
  {
   "metadata": {},
   "cell_type": "code",
   "source": [
    "#Fit del Modelo\n",
    "autoencoder.compile(optimizer=\"sgd\", loss=\"mse\")\n",
    "autoencoder.fit(x_train,x_train, epochs=100, batch_size=32, shuffle=True, validation_data=(x_test, x_test), verbose=1)"
   ],
   "id": "f8422fee7d6ca534",
   "outputs": [],
   "execution_count": null
  },
  {
   "metadata": {},
   "cell_type": "code",
   "source": [
    "#Predicciones de x_test, Matriz de Confusion, Error\n",
    "x_pred= autoencoder.predict(x_test)\n",
    "mse=np.mean(np.power(x_test-x_pred, 2), axis=1)\n",
    "print(x_pred.shape)"
   ],
   "id": "dbd74465ba5c7ffd",
   "outputs": [],
   "execution_count": null
  },
  {
   "metadata": {},
   "cell_type": "code",
   "source": [
    "from sklearn.metrics import confusion_matrix, precision_recall_curve\n",
    "\n",
    "precision, recall, umbral = precision_recall_curve(y_test, mse)\n",
    "\n",
    "plt.plot(umbral, precision[1:], label= \"Precision\")\n",
    "plt.plot(umbral, recall[1:], label=\"Recall\")\n",
    "plt.title(\"Precicion y Recall para distintos Umbrales\")\n",
    "plt.xlabel(\"Umbral\")\n",
    "plt.ylabel(\"Precision/Recall\")\n",
    "plt.legend()\n",
    "plt.show()"
   ],
   "id": "c33e4882b0188b5d",
   "outputs": [],
   "execution_count": null
  },
  {
   "metadata": {},
   "cell_type": "code",
   "source": [
    "#No nos importa tener falsos positivos pero no debemos tener falsos negativos, por encima de precision y por de recall\n",
    "umbral = 0.75\n",
    "y_pred=[1 if e > umbral else 0 for e in mse] # Por cada valor de error, prediccion es normal o fraudulento\n",
    "conf_matrix = confusion_matrix(y_test, y_pred)\n",
    "print(conf_matrix)\n"
   ],
   "id": "8e6a330127eb1e44",
   "outputs": [],
   "execution_count": null
  },
  {
   "metadata": {},
   "cell_type": "code",
   "source": "",
   "id": "a332a451545dc881",
   "outputs": [],
   "execution_count": null
  }
 ],
 "metadata": {
  "kernelspec": {
   "display_name": "Python 3",
   "language": "python",
   "name": "python3"
  },
  "language_info": {
   "codemirror_mode": {
    "name": "ipython",
    "version": 2
   },
   "file_extension": ".py",
   "mimetype": "text/x-python",
   "name": "python",
   "nbconvert_exporter": "python",
   "pygments_lexer": "ipython2",
   "version": "2.7.6"
  }
 },
 "nbformat": 4,
 "nbformat_minor": 5
}
